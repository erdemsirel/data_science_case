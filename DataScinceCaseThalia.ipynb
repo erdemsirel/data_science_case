{
  "nbformat": 4,
  "nbformat_minor": 0,
  "metadata": {
    "colab": {
      "provenance": [],
      "toc_visible": true,
      "authorship_tag": "ABX9TyN14oB4L0t7LYKn0bfJFLP+",
      "include_colab_link": true
    },
    "kernelspec": {
      "name": "python3",
      "display_name": "Python 3"
    },
    "language_info": {
      "name": "python"
    }
  },
  "cells": [
    {
      "cell_type": "markdown",
      "metadata": {
        "id": "view-in-github",
        "colab_type": "text"
      },
      "source": [
        "<a href=\"https://colab.research.google.com/github/erdemsirel/data_science_case/blob/main/DataScinceCaseThalia.ipynb\" target=\"_parent\"><img src=\"https://colab.research.google.com/assets/colab-badge.svg\" alt=\"Open In Colab\"/></a>"
      ]
    },
    {
      "cell_type": "code",
      "execution_count": 2,
      "metadata": {
        "id": "7a_U8jLfLa8P"
      },
      "outputs": [],
      "source": [
        "# Data Source\n",
        "# https://www.kaggle.com/code/juniorbueno/analyzing-credit-default/data"
      ]
    },
    {
      "cell_type": "code",
      "source": [],
      "metadata": {
        "id": "CBbzbX-6MhUG"
      },
      "execution_count": null,
      "outputs": []
    },
    {
      "cell_type": "markdown",
      "source": [
        "# Loading The Data"
      ],
      "metadata": {
        "id": "PWbbER9cMrWF"
      }
    },
    {
      "cell_type": "code",
      "source": [],
      "metadata": {
        "id": "17JERb0oMvdG"
      },
      "execution_count": null,
      "outputs": []
    },
    {
      "cell_type": "markdown",
      "source": [
        "# Exploratory Data Analysis"
      ],
      "metadata": {
        "id": "uJa6J1V4MwsY"
      }
    },
    {
      "cell_type": "code",
      "source": [],
      "metadata": {
        "id": "C9FAvIWZM0zv"
      },
      "execution_count": null,
      "outputs": []
    },
    {
      "cell_type": "markdown",
      "source": [
        "# Data Processing"
      ],
      "metadata": {
        "id": "Q4x9GzWPOdWX"
      }
    },
    {
      "cell_type": "code",
      "source": [],
      "metadata": {
        "id": "fWbJ_eedOfkS"
      },
      "execution_count": null,
      "outputs": []
    },
    {
      "cell_type": "markdown",
      "source": [
        "# Modelling"
      ],
      "metadata": {
        "id": "UX0aIp4LO5Ug"
      }
    },
    {
      "cell_type": "code",
      "source": [],
      "metadata": {
        "id": "ow9Gyj60O-ZO"
      },
      "execution_count": null,
      "outputs": []
    }
  ]
}